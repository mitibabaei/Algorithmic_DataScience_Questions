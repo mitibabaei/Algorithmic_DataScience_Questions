{
 "cells": [
  {
   "cell_type": "markdown",
   "id": "f1a2f33b-fb55-49f2-96bd-ecd7adc0ac4c",
   "metadata": {},
   "source": [
    "## Anomaly Detection\n",
    "## Question: \n",
    "Implement a function that identifies outliers in a dataset using statistical measures like mean and standard deviation. \n",
    "### Follow-up: \n",
    "Explain how your algorithm would handle large-scale data and how to optimize it."
   ]
  },
  {
   "cell_type": "markdown",
   "id": "5d47a3e1-4dfc-4944-bc93-1dcfb8cd0987",
   "metadata": {},
   "source": [
    "### 1. Statistical Method - Z-Score\n",
    "\n",
    "data point with a z-score greater than the specified threshold is considered an outlier. \n",
    "#### Algorithm:\n",
    "1. **Calculate the Mean ($\\mu $)**: Compute the average of the dataset.\n",
    "2. **Calculate the Standard Deviation ($\\sigma $)**: Measure the spread of the data around the mean.\n",
    "3. **Compute Z-Scores ($Z $)**: For each data point ($x $), calculate the Z-score.\n",
    "The Z-score indicates how many standard deviations a data point is from the mean. The Z-Score for a data point is calculated using the formula:\n",
    "\n",
    "$$\n",
    "Z = \\frac{x - \\mu}{\\sigma}\n",
    "$$\n",
    "\n",
    "4. **Set Threshold**: Define a threshold (e.g., 3). Data points with absolute Z-scores greater than the threshold are considered outliers.\n",
    "#### Use Case:\n",
    "+ Best suited for data that is **normally distributed**.\n",
    "+ Sensitive to **extreme outliers**, as they can inflate the mean and standard deviation."
   ]
  },
  {
   "cell_type": "code",
   "execution_count": 47,
   "id": "bd1a3a62-47d7-46cc-9aa8-e402ad7a7b04",
   "metadata": {},
   "outputs": [
    {
     "name": "stdout",
     "output_type": "stream",
     "text": [
      "Index: 4, Value: -15\n",
      "Index: 7, Value: 100\n",
      "Index: 11, Value: 120\n"
     ]
    }
   ],
   "source": [
    "import numpy as np \n",
    "\n",
    "def detect_outliers_z_score(data, threshold):\n",
    "    mean = np.mean(data)\n",
    "    #print('mean=', mean)\n",
    "    std_dev = np.std(data)\n",
    "    #print('standard deviation=', std_dev)\n",
    "    z_score = [(x - mean)/std_dev for x in data]\n",
    "    #print('Z score=', z_score)\n",
    "    return [i for i,z in enumerate(z_score) if abs(z) > threshold]\n",
    "\n",
    "#---------------------\n",
    "#Example\n",
    "#---------------------\n",
    "data = [10, 12, 12, 11, -15, 13, 15, 100, 11, 12, 14, 120,-10]\n",
    "outliers = detect_outliers_z_score(data, 0.9)\n",
    "for index in outliers:\n",
    "    print(f\"Index: {index}, Value: {data[index]}\")"
   ]
  },
  {
   "cell_type": "code",
   "execution_count": null,
   "id": "27f534eb-605d-4df2-9ffd-2373e3d8930d",
   "metadata": {},
   "outputs": [],
   "source": []
  },
  {
   "cell_type": "markdown",
   "id": "b70a4472-658f-4c20-ad38-8a8201c03d05",
   "metadata": {},
   "source": [
    "### 2. Statistical Method - IQR (Interquartile Range)\n",
    "Data points outside the range defined by lower bound and upper bound are considered outliers.\n",
    "#### Algorithm:\n",
    "1. **Calculate Quartiles**:\n",
    "   - **Q1 (25th Percentile)**: Median of the lower half of the dataset.\n",
    "   - **Q3 (75th Percentile)**: Median of the upper half of the dataset.\n",
    "\n",
    "2. **Calculate IQR**:\n",
    "   $$\n",
    "   \\text{IQR} = Q3 - Q1\n",
    "   $$\n",
    "   - Measures the range of the middle 50% of the data.\n",
    "\n",
    "3. **Determine Outlier Bounds**:\n",
    "   - **Lower Bound**:\n",
    "     $$\n",
    "     Q1 - 1.5 \\times \\text{IQR}\n",
    "     $$\n",
    "   - **Upper Bound**:\n",
    "     $$\n",
    "     Q3 + 1.5 \\times \\text{IQR}\n",
    "     $$\n",
    "\n",
    "4. **Identify Outliers**:\n",
    "   - Data points outside these bounds are classified as outliers.\n",
    "\n",
    "#### Use Case:\n",
    "- Effective for **non-normal or skewed distributions**.\n",
    "- Robust to **extreme values**.\n"
   ]
  },
  {
   "cell_type": "code",
   "execution_count": 59,
   "id": "b4fb89ef-fab9-4b4d-89df-91ad37b3b453",
   "metadata": {},
   "outputs": [
    {
     "name": "stdout",
     "output_type": "stream",
     "text": [
      "index: 4, value: -15\n",
      "index: 7, value: 100\n",
      "index: 11, value: 120\n",
      "index: 12, value: -10\n"
     ]
    }
   ],
   "source": [
    "def detect_outliers_iqr(data):\n",
    "    q1 = np.percentile(data,25)     # Median of the lower half of the dataset.\n",
    "    q3 = np.percentile(data, 75)    # Median of the upper half of the dataset.\n",
    "    iqr = q3 - q1                   #range of the middle 50% of the data.\n",
    "    lowerbound = q1 - 1.5 * iqr     # lower bound\n",
    "    upperbound = q3 + 1.5 * iqr     #upper bound\n",
    "    return [i for i, x in enumerate(data) if x < lowerbound or x > upperbound]\n",
    "\n",
    "#---------------------\n",
    "#Example\n",
    "#---------------------\n",
    "outliers_iqr = detect_outliers_iqr(data)\n",
    "for index in outliers_iqr:\n",
    "    print(f\"index: {index}, value: {data[index]}\")"
   ]
  },
  {
   "cell_type": "code",
   "execution_count": null,
   "id": "43819666-02b6-4e6e-9005-72e3ea429fb2",
   "metadata": {},
   "outputs": [],
   "source": []
  },
  {
   "cell_type": "markdown",
   "id": "ba5ae20f-b476-4584-a7fe-8f6aa7dff8f5",
   "metadata": {},
   "source": [
    "### 3. Machine Learning - Isolation Forest\n",
    "Identifies outliers based on the concept of isolation.\n",
    "#### Algorithm:\n",
    "1. **Tree-Based Isolation**:\n",
    "   - Builds a binary tree structure to isolate data points by randomly selecting a feature and splitting the data at random values.\n",
    "   - Anomalies are isolated more quickly because they lie in sparse regions.\n",
    "\n",
    "2. **Calculate Path Length**:\n",
    "   - The number of splits required to isolate a data point is called the path length.\n",
    "   - Anomalies have shorter average path lengths compared to normal points.\n",
    "\n",
    "3. **Score Calculation**:\n",
    "   - An anomaly score is computed for each point based on its path length.\n",
    "   - A higher score indicates a higher likelihood of being an anomaly.\n",
    "\n",
    "4. **Threshold**:\n",
    "   - Based on a contamination parameter (fraction of anomalies expected in the dataset), classify points as normal or anomalous.\n",
    "\n",
    "#### Use Case:\n",
    "- Handles **high-dimensional data** and **non-linear relationships**.\n",
    "- Suitable for **large-scale datasets**.\n"
   ]
  }
 ],
 "metadata": {
  "kernelspec": {
   "display_name": "Python 3 (ipykernel)",
   "language": "python",
   "name": "python3"
  },
  "language_info": {
   "codemirror_mode": {
    "name": "ipython",
    "version": 3
   },
   "file_extension": ".py",
   "mimetype": "text/x-python",
   "name": "python",
   "nbconvert_exporter": "python",
   "pygments_lexer": "ipython3",
   "version": "3.11.5"
  }
 },
 "nbformat": 4,
 "nbformat_minor": 5
}
