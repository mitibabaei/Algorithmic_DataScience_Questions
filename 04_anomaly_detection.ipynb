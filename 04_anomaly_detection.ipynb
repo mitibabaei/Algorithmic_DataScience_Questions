{
 "cells": [
  {
   "cell_type": "markdown",
   "id": "f1a2f33b-fb55-49f2-96bd-ecd7adc0ac4c",
   "metadata": {},
   "source": [
    "## Anomaly Detection\n",
    "## Question: \n",
    "Implement a function that identifies outliers in a dataset using statistical measures like mean and standard deviation. \n",
    "### Follow-up: \n",
    "Explain how your algorithm would handle large-scale data and how to optimize it."
   ]
  },
  {
   "cell_type": "markdown",
   "id": "5d47a3e1-4dfc-4944-bc93-1dcfb8cd0987",
   "metadata": {},
   "source": [
    "### 1. Statistical Method - Z-Score\n",
    "\n",
    "data point with a z-score greater than the specified threshold is considered an outlier. \n",
    "#### Algorithm:\n",
    "1. **Calculate the Mean ($\\mu $)**: Compute the average of the dataset.\n",
    "2. **Calculate the Standard Deviation ($\\sigma $)**: Measure the spread of the data around the mean.\n",
    "3. **Compute Z-Scores ($Z $)**: For each data point ($x $), calculate the Z-score.\n",
    "The Z-score indicates how many standard deviations a data point is from the mean. The Z-Score for a data point is calculated using the formula:\n",
    "\n",
    "$$\n",
    "Z = \\frac{x - \\mu}{\\sigma}\n",
    "$$\n",
    "\n",
    "4. **Set Threshold**: Define a threshold (e.g., 3). Data points with absolute Z-scores greater than the threshold are considered outliers.\n",
    "#### Use Case:\n",
    "+ Best suited for data that is **normally distributed**.\n",
    "+ Sensitive to **extreme outliers**, as they can inflate the mean and standard deviation."
   ]
  },
  {
   "cell_type": "code",
   "execution_count": 1,
   "id": "bd1a3a62-47d7-46cc-9aa8-e402ad7a7b04",
   "metadata": {},
   "outputs": [
    {
     "name": "stdout",
     "output_type": "stream",
     "text": [
      "Index: 4, Value: -15\n",
      "Index: 7, Value: 100\n",
      "Index: 11, Value: 120\n"
     ]
    }
   ],
   "source": [
    "import numpy as np \n",
    "\n",
    "def detect_outliers_z_score(data, threshold):\n",
    "    mean = np.mean(data)\n",
    "    #print('mean=', mean)\n",
    "    std_dev = np.std(data)\n",
    "    #print('standard deviation=', std_dev)\n",
    "    z_score = [(x - mean)/std_dev for x in data]\n",
    "    #print('Z score=', z_score)\n",
    "    return [i for i,z in enumerate(z_score) if abs(z) > threshold]\n",
    "\n",
    "#---------------------\n",
    "#Example\n",
    "#---------------------\n",
    "data = [10, 12, 12, 11, -15, 13, 15, 100, 11, 12, 14, 120,-10, 9]\n",
    "outliers = detect_outliers_z_score(data, 0.9)\n",
    "for index in outliers:\n",
    "    print(f\"Index: {index}, Value: {data[index]}\")"
   ]
  },
  {
   "cell_type": "code",
   "execution_count": null,
   "id": "27f534eb-605d-4df2-9ffd-2373e3d8930d",
   "metadata": {},
   "outputs": [],
   "source": []
  },
  {
   "cell_type": "markdown",
   "id": "b70a4472-658f-4c20-ad38-8a8201c03d05",
   "metadata": {},
   "source": [
    "### 2. Statistical Method - IQR (Interquartile Range)\n",
    "Data points outside the range defined by lower bound and upper bound are considered outliers.\n",
    "#### Algorithm:\n",
    "1. **Calculate Quartiles**:\n",
    "   - **Q1 (25th Percentile)**: Median of the lower half of the dataset.\n",
    "   - **Q3 (75th Percentile)**: Median of the upper half of the dataset.\n",
    "\n",
    "2. **Calculate IQR**:\n",
    "   $$\n",
    "   \\text{IQR} = Q3 - Q1\n",
    "   $$\n",
    "   - Measures the range of the middle 50% of the data.\n",
    "\n",
    "3. **Determine Outlier Bounds**:\n",
    "   - **Lower Bound**:\n",
    "     $$\n",
    "     Q1 - 1.5 \\times \\text{IQR}\n",
    "     $$\n",
    "   - **Upper Bound**:\n",
    "     $$\n",
    "     Q3 + 1.5 \\times \\text{IQR}\n",
    "     $$\n",
    "\n",
    "4. **Identify Outliers**:\n",
    "   - Data points outside these bounds are classified as outliers.\n",
    "\n",
    "#### Use Case:\n",
    "- Effective for **non-normal or skewed distributions**.\n",
    "- Robust to **extreme values**.\n"
   ]
  },
  {
   "cell_type": "code",
   "execution_count": 2,
   "id": "b4fb89ef-fab9-4b4d-89df-91ad37b3b453",
   "metadata": {},
   "outputs": [
    {
     "name": "stdout",
     "output_type": "stream",
     "text": [
      "index: 4, value: -15\n",
      "index: 7, value: 100\n",
      "index: 11, value: 120\n",
      "index: 12, value: -10\n"
     ]
    }
   ],
   "source": [
    "def detect_outliers_iqr(data):\n",
    "    q1 = np.percentile(data,25)     # Median of the lower half of the dataset.\n",
    "    q3 = np.percentile(data, 75)    # Median of the upper half of the dataset.\n",
    "    iqr = q3 - q1                   #range of the middle 50% of the data.\n",
    "    lowerbound = q1 - 1.5 * iqr     # lower bound\n",
    "    upperbound = q3 + 1.5 * iqr     #upper bound\n",
    "    return [i for i, x in enumerate(data) if x < lowerbound or x > upperbound]\n",
    "\n",
    "#---------------------\n",
    "#Example\n",
    "#---------------------\n",
    "outliers_iqr = detect_outliers_iqr(data)\n",
    "for index in outliers_iqr:\n",
    "    print(f\"index: {index}, value: {data[index]}\")"
   ]
  },
  {
   "cell_type": "code",
   "execution_count": null,
   "id": "43819666-02b6-4e6e-9005-72e3ea429fb2",
   "metadata": {},
   "outputs": [],
   "source": []
  },
  {
   "cell_type": "markdown",
   "id": "ba5ae20f-b476-4584-a7fe-8f6aa7dff8f5",
   "metadata": {},
   "source": [
    "### 3. Machine Learning - Isolation Forest\n",
    "The Isolation Forest is an **unsupervised machine learning algorithm** that identifies anomalies or outliers based on the concept of isolation. \n",
    "#### Algorithm:\n",
    "1. **Tree-Based Isolation**:\n",
    "   - Builds a binary tree structure to isolate data points by randomly selecting a feature (dimension) and splitting the data at random values. These splits divide the dataset recursively into smaller and smaller subsets.\n",
    "   - Anomalies are isolated more quickly because they lie in sparse regions.\n",
    "   - Normal points take more splits to isolate, as they are surrounded by other points in dense regions.\n",
    "\n",
    "2. **Calculate Path Length**:\n",
    "   - The number of splits required to isolate a data point is called the path length.\n",
    "   - Points in sparse regions (anomalies) have shorter path lengths, while points in dense regions have longer path lengths.\n",
    "\n",
    "3. **Score Calculation**:\n",
    "   - An anomaly score is computed for each point based on its path length.\n",
    "   - A higher score indicates a higher likelihood of being an anomaly.\n",
    "\n",
    "4. **Threshold**:\n",
    "   - Based on a contamination parameter (fraction of anomalies expected in the dataset), classify points as normal or anomalous.\n",
    "\n",
    "#### Use Case:\n",
    "- Handles **high-dimensional data** and **non-linear relationships**.\n",
    "- Suitable for **large-scale datasets**.\n"
   ]
  },
  {
   "cell_type": "code",
   "execution_count": 3,
   "id": "00baab77-0fac-4602-8d05-092b2a09bbde",
   "metadata": {},
   "outputs": [
    {
     "name": "stdout",
     "output_type": "stream",
     "text": [
      "index: 4, value: -15\n",
      "index: 7, value: 100\n",
      "index: 11, value: 120\n",
      "index: 12, value: -10\n"
     ]
    }
   ],
   "source": [
    "from sklearn.ensemble import IsolationForest\n",
    "\n",
    "def detect_outliers_isolation_forest(data):\n",
    "    data  = np.array(data).reshape(-1,1)\n",
    "    model = IsolationForest(contamination = 0.3, random_state = 42) \n",
    "    # contamination helps the model determine the threshold for labeling points as outliers. Here specifies that 30% of the data points are expected to be anomalies.\n",
    "    # random_state ensures that the random operations are reproducible.\n",
    "    model.fit(data) # Trains the Isolation Forest model on the input data.\n",
    "    predictions = model.predict(data) #Predicts and lable whether each data point is an anomaly or normal\n",
    "    #predictions is a 1D array containing the predicted labels for each data point\n",
    "    return [i for i, pred in enumerate(predictions) if pred == -1]\n",
    "\n",
    "\n",
    "#---------------------\n",
    "#Example\n",
    "#---------------------\n",
    "outliers_iqr = detect_outliers_isolation_forest(data)\n",
    "for index in outliers_iqr:\n",
    "    print(f\"index: {index}, value: {data[index]}\")"
   ]
  },
  {
   "cell_type": "code",
   "execution_count": null,
   "id": "d71badf0-ed47-4db4-a4b1-895201fc66e2",
   "metadata": {},
   "outputs": [],
   "source": []
  },
  {
   "cell_type": "markdown",
   "id": "0d911db7-fb42-453b-9e25-7998bfdf3d4e",
   "metadata": {},
   "source": [
    "### 4. Clustering - DBSCAN\n",
    "**DBSCAN** (Density-Based Spatial Clustering of Applications with Noise) is an **unsupervised machine learning algorithm** used to group points into **clusters** based on density. Unlike algorithms like K-Means, DBSCAN does not require specifying the number of clusters beforehand and can identify noise (outliers) effectively.\n",
    "\n",
    "#### Algorithm:\n",
    "1. **Identify Core Points:**\n",
    "   - Compute the number of points within eps distance for each point.\n",
    "   - If the count is greater than or equal to min_samples, classify it as a core point.\n",
    "2. **Form Clusters:**\n",
    "\n",
    "   - Start from an unvisited core point and form a cluster by grouping all density-reachable points.\n",
    "\n",
    "3. **Handle Noise:**\n",
    "\n",
    "   - Points that cannot be assigned to any cluster are labeled as noise.\n",
    "  \n",
    "#### Use cases\n",
    "- Effective for arbitrary-shaped clusters, density-based clustering, non-normal distributions, and noisy datasets.\n",
    "- Robust to noise, outliers, non-uniform cluster sizes, and the absence of predefined cluster numbers.\n"
   ]
  },
  {
   "cell_type": "code",
   "execution_count": 10,
   "id": "ad214fb9-988c-4488-b8fb-6228c1475ff8",
   "metadata": {},
   "outputs": [
    {
     "name": "stdout",
     "output_type": "stream",
     "text": [
      "index:4, value: -15\n",
      "index:7, value: 100\n",
      "index:11, value: 120\n",
      "index:12, value: -10\n",
      "[ 0  0  0  0 -1  0  0 -1  0  0  0 -1 -1  0]\n"
     ]
    },
    {
     "data": {
      "image/png": "[encoded data removed]",
      "text/plain": [
       "<Figure size 640x480 with 1 Axes>"
      ]
     },
     "metadata": {},
     "output_type": "display_data"
    }
   ],
   "source": [
    "from sklearn.cluster import DBSCAN\n",
    "\n",
    "def detect_outliers_dbscan(data, eps, min_samples):\n",
    "    # eps: The maximum distance between two points to be considered as neighbors.\n",
    "    # min_samples: The minimum number of points required to form a dense region (including the core point itself).\n",
    "    data = np.array(data).reshape(-1, 1)\n",
    "    model = DBSCAN(eps = eps, min_samples = min_samples)\n",
    "    labels = model.fit_predict(data)\n",
    "    outliers_indices = [i for i, label in enumerate (labels) if label == -1]\n",
    "    return outliers_indices , labels \n",
    "\n",
    "\n",
    "#---------------------\n",
    "#Example\n",
    "#---------------------\n",
    "\n",
    "outliers_dbscan, labels  = detect_outliers_dbscan(data, 1, 2)\n",
    "for index in outliers_dbscan:\n",
    "    print(f\"index:{index}, value: {data[index]}\")\n",
    "\n",
    "\n",
    "#---------------------\n",
    "# Plot the results\n",
    "#---------------------\n",
    "import matplotlib.pyplot as plt\n",
    "print(labels)\n",
    "data = np.array(data)\n",
    "plt.scatter(data, np.zeros_like(data), c=len(), cmap='viridis', marker='o', s=100, label=\"Data Points\")\n",
    "plt.scatter(data[outliers_dbscan], np.zeros_like(data[outliers_dbscan]), c='red', marker='x', s=200, label=\"Outliers\")\n",
    "plt.title(\"DBSCAN Clustering and Outlier Detection\")\n",
    "plt.xlabel(\"Data Values\")\n",
    "plt.legend()\n",
    "plt.show()"
   ]
  },
  {
   "cell_type": "code",
   "execution_count": null,
   "id": "218fc3e3-76cc-4dd8-b6da-b1f40797b684",
   "metadata": {},
   "outputs": [],
   "source": []
  },
  {
   "cell_type": "markdown",
   "id": "ec30adea-f897-4cb7-897e-a4f540b22911",
   "metadata": {},
   "source": [
    "### Comparison of Anomaly Detection Methods\n",
    "\n",
    "| Method            | Time Complexity       | Space Complexity     | Suitable For                            | Notes                                                                 |\n",
    "|--------------------|-----------------------|-----------------------|-----------------------------------------|----------------------------------------------------------------------|\n",
    "| **Z-Score**       | O(n)                 | O(1)                 | Numerical data (normally distributed)   | Simple and fast but sensitive to outliers in mean and standard deviation. |\n",
    "| **IQR**           | O(n log n) (sorting) | O(1)                 | Numerical data (skewed distributions)   | Robust to extreme values but less effective for multi-dimensional data. |\n",
    "| **Isolation Forest** | O(t × ψ log(ψ))     | O(t × ψ)             | High-dimensional, large-scale datasets | Handles non-linear and multi-dimensional data well; requires parameter tuning. |\n",
    "| **DBSCAN**        | O(n²) or O(n log n)* | O(n)                 | Arbitrary-shaped clusters; spatial data | Effective for clusters of varying density; not ideal for very high-dimensional data. |\n",
    "\n",
    "\n",
    "\n",
    "### Suitability Summary\n",
    "- **Z-Score**: Simple and fast, good for clean numerical data.\n",
    "- **IQR**: Robust to skewness, good for 1D numerical data.\n",
    "- **Isolation Forest**: Handles complex, high-dimensional data.\n",
    "- **DBSCAN**: Effective for spatial data and irregularly shaped clusters.\n"
   ]
  },
  {
   "cell_type": "code",
   "execution_count": null,
   "id": "abf6a87d-816b-438d-813e-b8fc45322b85",
   "metadata": {},
   "outputs": [],
   "source": []
  }
 ],
 "metadata": {
  "kernelspec": {
   "display_name": "Python 3 (ipykernel)",
   "language": "python",
   "name": "python3"
  },
  "language_info": {
   "codemirror_mode": {
    "name": "ipython",
    "version": 3
   },
   "file_extension": ".py",
   "mimetype": "text/x-python",
   "name": "python",
   "nbconvert_exporter": "python",
   "pygments_lexer": "ipython3",
   "version": "3.11.5"
  }
 },
 "nbformat": 4,
 "nbformat_minor": 5
}
