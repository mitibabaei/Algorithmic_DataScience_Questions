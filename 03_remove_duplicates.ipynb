{
 "cells": [
  {
   "cell_type": "markdown",
   "id": "05234688-c848-4928-ab8e-ec1f996bf5a2",
   "metadata": {},
   "source": [
    "## Question: \n",
    "Given a list of numbers, write a Python function to remove all duplicates while maintaining the original order. \n",
    "### Follow-up: \n",
    "Discuss the time and space complexity of your solution."
   ]
  },
  {
   "cell_type": "markdown",
   "id": "919938da-4b21-44b8-9e97-1849a2224302",
   "metadata": {},
   "source": [
    "## 1. Set based approach \n",
    "\n",
    "- Initialize an empty set: Use the set to track elements that have already been added to the result.\n",
    "- Iterate through the input list: For each element check if it is in the set.\n",
    "- If it is not in the set: Add it to the result list and add it to the set.\n",
    "- Return the result list: The result list contains the unique elements in their original order."
   ]
  },
  {
   "cell_type": "code",
   "execution_count": 3,
   "id": "d3f6fa8b-34e8-4341-920e-b79745b36640",
   "metadata": {},
   "outputs": [
    {
     "name": "stdout",
     "output_type": "stream",
     "text": [
      "[1, 2, 3, 4, 5]\n"
     ]
    }
   ],
   "source": [
    "def remove_duplicates(numbers):\n",
    "    seen = set()\n",
    "    result = []\n",
    "    for num in numbers:\n",
    "        if num not in seen:\n",
    "            result.append(num)\n",
    "            seen.add(num)\n",
    "    return result\n",
    "\n",
    "\n",
    "#---------------------\n",
    "#Example\n",
    "#---------------------\n",
    "numbers = [1, 2, 2, 3, 4, 4, 5, 1]\n",
    "unique_numbers = remove_duplicates(numbers)\n",
    "print(unique_numbers)"
   ]
  },
  {
   "cell_type": "markdown",
   "id": "394a9242-460e-4a57-97b3-6736d9fd9eff",
   "metadata": {},
   "source": [
    "## 2. NumPy approach \n",
    "\n",
    "- Great for numerical data and large datasets."
   ]
  },
  {
   "cell_type": "code",
   "execution_count": 4,
   "id": "c48ef3df-1b02-418d-bb35-6233773f506f",
   "metadata": {},
   "outputs": [
    {
     "name": "stdout",
     "output_type": "stream",
     "text": [
      "[1, 2, 3, 4, 5]\n"
     ]
    }
   ],
   "source": [
    "import numpy as np\n",
    "\n",
    "def remove_duplicates_numpy(numbers):\n",
    "    _, idx = np.unique(numbers, return_index=True)\n",
    "    return [numbers[i] for i in sorted(idx)]\n",
    "\n",
    "#---------------------\n",
    "#Example\n",
    "#---------------------\n",
    "numbers = [1, 2, 2, 3, 4, 4, 5, 1]\n",
    "unique_numbers_numpy = remove_duplicates_numpy(numbers)\n",
    "print(unique_numbers)"
   ]
  },
  {
   "cell_type": "markdown",
   "id": "fcd47614-7c69-48b7-8fd3-44a4e34d617e",
   "metadata": {},
   "source": [
    "## 3. Pandas approach \n",
    "\n",
    "- Very concise and powerful for tabular/numerical data. Pandas can quickly deduplicate rows or columns.\n"
   ]
  },
  {
   "cell_type": "code",
   "execution_count": 6,
   "id": "2491053f-0334-437e-ba66-ca6fbad2b6ad",
   "metadata": {},
   "outputs": [
    {
     "name": "stdout",
     "output_type": "stream",
     "text": [
      "[1, 2, 3, 4, 5]\n"
     ]
    }
   ],
   "source": [
    "import pandas as pd\n",
    "\n",
    "def remove_duplicates_pandas(numbers):\n",
    "    return pd.Series(numbers).drop_duplicates().tolist()\n",
    "\n",
    "\n",
    "#---------------------\n",
    "#Example\n",
    "#---------------------\n",
    "numbers = [1, 2, 2, 3, 4, 4, 5, 1]\n",
    "unique_numbers_numpy = remove_duplicates_pandas(numbers)\n",
    "print(unique_numbers)"
   ]
  },
  {
   "cell_type": "code",
   "execution_count": null,
   "id": "9bc7e119-7398-425d-8031-1ef1926ad05b",
   "metadata": {},
   "outputs": [],
   "source": []
  },
  {
   "cell_type": "markdown",
   "id": "a6e2dfd1-65e0-4d28-b4ac-7d47adb1b03a",
   "metadata": {},
   "source": [
    "| **Approach**    | **Time Complexity** | **Space Complexity** | **Best Usage**                                |\n",
    "|------------------|---------------------|-----------------------|-----------------------------------------------|\n",
    "| **Set-Based**    | \\( O(n) \\)          | \\( O(n) \\)            | General-purpose, small to medium datasets.    |\n",
    "| **NumPy**        | \\( O(n \\log n) \\)   | \\( O(n) \\)            | Numerical data and large datasets.            |\n",
    "| **Pandas**       | \\( O(n) \\)          | \\( O(n) \\)            | Tabular or structured data processing.        |\n"
   ]
  },
  {
   "cell_type": "code",
   "execution_count": null,
   "id": "b6d47abc-d493-4dbd-a51f-f1235794ffad",
   "metadata": {},
   "outputs": [],
   "source": []
  }
 ],
 "metadata": {
  "kernelspec": {
   "display_name": "Python 3 (ipykernel)",
   "language": "python",
   "name": "python3"
  },
  "language_info": {
   "codemirror_mode": {
    "name": "ipython",
    "version": 3
   },
   "file_extension": ".py",
   "mimetype": "text/x-python",
   "name": "python",
   "nbconvert_exporter": "python",
   "pygments_lexer": "ipython3",
   "version": "3.11.5"
  }
 },
 "nbformat": 4,
 "nbformat_minor": 5
}
