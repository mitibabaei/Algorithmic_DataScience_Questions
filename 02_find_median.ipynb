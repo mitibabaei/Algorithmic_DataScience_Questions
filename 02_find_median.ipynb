{
 "cells": [
  {
   "cell_type": "markdown",
   "id": "7522150a-f151-4a89-aadc-e309f6a77d45",
   "metadata": {},
   "source": [
    "## Question: \n",
    "Given a list of numbers, find the median without sorting the entire list. Explain your approach. \n",
    "## Follow-up: \n",
    "Use the QuickSelect algorithm or Min/Max Heaps for efficiency.\n"
   ]
  },
  {
   "cell_type": "markdown",
   "id": "15e54225-9774-43a9-9f18-9e59d1568411",
   "metadata": {},
   "source": [
    "## 1. Quick Select\n",
    "Similar to Quicksort, but focuses only on the part of list for finding on the **𝑘-th smallest or largest element** that would appear in the \n",
    "𝑘-th position if the list were sorted, but without actually sorting the list.\n",
    "\n",
    "- **Choose a Pivot:** select a pivot element from the list(e.g., first, last, median or randomly)\n",
    "- **Partition the List:** move all elements smaller than the pivot to the left and larger ones to the right.\n",
    "- **Determine the Partition Index:** check the index position of the pivot in the rearranged list. If the pivot is at the index k, return it as the k-th smallest number.\n",
    "- **Recursively Search:**\n",
    "  \n",
    "      - If k is smaller than the pivot's index, repeat the process on the left sublist.\n",
    "  \n",
    "      - If k is larger, repeat the process on the right sublist."
   ]
  },
  {
   "cell_type": "code",
   "execution_count": 21,
   "id": "907f38c5-2ee8-4916-96c0-4de112764c88",
   "metadata": {},
   "outputs": [
    {
     "name": "stdout",
     "output_type": "stream",
     "text": [
      "Median: 3\n"
     ]
    }
   ],
   "source": [
    "def quickselect(arr, k):\n",
    "    if len(arr) == 1:  # Base case: only one element\n",
    "        return arr[0]\n",
    "    \n",
    "    # Step 1: Choose a pivot (e.g., the last element)\n",
    "    pivot = arr[len(arr) // 2]\n",
    "    #print('pivot=', pivot)\n",
    "    #print('k=', k)\n",
    "    # Step 2: Partition the list\n",
    "    left = [x for x in arr if x < pivot]\n",
    "    middle = [x for x in arr if x == pivot]\n",
    "    right = [x for x in arr if x > pivot]\n",
    "    #print('left=', left)\n",
    "    #print('middle=', middle)\n",
    "    #print('right=', right)\n",
    "    \n",
    "    # Step 3: Determine the position of the pivot\n",
    "    if k < len(left):\n",
    "        return quickselect(left, k)  # Recur on the left part\n",
    "    elif k < len(left) + len(middle):\n",
    "        return pivot  # Pivot is the k-th smallest element\n",
    "    else:\n",
    "        return quickselect(right, k - len(left) - len(middle))  # Recur on the right part\n",
    "\n",
    "# Example usage\n",
    "unsorted_list = [0, 3, 2, 1, 5, 4]\n",
    "k = len(unsorted_list) // 2  # Index of the median\n",
    "median = quickselect(unsorted_list, k)\n",
    "print(\"Median:\", median)\n"
   ]
  },
  {
   "cell_type": "code",
   "execution_count": null,
   "id": "0c7c1a16-eb1c-49ee-b19b-5a6cbb7e5696",
   "metadata": {},
   "outputs": [],
   "source": []
  }
 ],
 "metadata": {
  "kernelspec": {
   "display_name": "Python 3 (ipykernel)",
   "language": "python",
   "name": "python3"
  },
  "language_info": {
   "codemirror_mode": {
    "name": "ipython",
    "version": 3
   },
   "file_extension": ".py",
   "mimetype": "text/x-python",
   "name": "python",
   "nbconvert_exporter": "python",
   "pygments_lexer": "ipython3",
   "version": "3.11.5"
  }
 },
 "nbformat": 4,
 "nbformat_minor": 5
}
