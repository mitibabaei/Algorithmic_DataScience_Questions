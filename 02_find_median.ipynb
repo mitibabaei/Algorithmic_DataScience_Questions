{
 "cells": [
  {
   "cell_type": "markdown",
   "id": "773692de-2075-4325-bd58-90e5a48aba2e",
   "metadata": {},
   "source": [
    "Simple Scenario: Find the median of a list"
   ]
  },
  {
   "cell_type": "code",
   "execution_count": null,
   "id": "c9a924fb-a55a-4546-b280-540327042e08",
   "metadata": {},
   "outputs": [],
   "source": [
    "nums = [3, 1, 4, 1, 5, 9]\n",
    "nums.sort()\n",
    "n = len(nums)\n",
    "if n % 2 ==1:\n",
    "    median = nums[n//2]\n",
    "else:\n",
    "    median = (nums[n // 2] + nums[n // 2 - 1]) / 2"
   ]
  },
  {
   "cell_type": "markdown",
   "id": "7522150a-f151-4a89-aadc-e309f6a77d45",
   "metadata": {},
   "source": [
    "## Question: \n",
    "Given a list of numbers, find the median without sorting the entire list. Explain your approach. \n",
    "## Follow-up: \n",
    "Use the QuickSelect algorithm or Min/Max Heaps for efficiency.\n"
   ]
  },
  {
   "cell_type": "markdown",
   "id": "15e54225-9774-43a9-9f18-9e59d1568411",
   "metadata": {},
   "source": [
    "## 1. Quick Select\n",
    "Similar to Quicksort, but focuses only on the part of list for finding on the **𝑘-th smallest or largest element** that would appear in the \n",
    "𝑘-th position if the list were sorted, but without actually sorting the list.\n",
    "\n",
    "- **Choose a Pivot:** select a pivot element from the list(e.g., first, last, median or randomly)\n",
    "- **Partition the List:** move all elements smaller than the pivot to the left and larger ones to the right.\n",
    "- **Determine the Partition Index:** check the index position of the pivot in the rearranged list. If the pivot is at the index k, return it as the k-th smallest number.\n",
    "- **Recursively Search:**\n",
    "  \n",
    "      - If k is smaller than the pivot's index, repeat the process on the left sublist.\n",
    "  \n",
    "      - If k is larger, repeat the process on the right sublist."
   ]
  },
  {
   "cell_type": "code",
   "execution_count": 25,
   "id": "907f38c5-2ee8-4916-96c0-4de112764c88",
   "metadata": {},
   "outputs": [
    {
     "name": "stdout",
     "output_type": "stream",
     "text": [
      "Median: 4\n"
     ]
    }
   ],
   "source": [
    "def quickselect(arr, k):\n",
    "    if len(arr) == 1:  # Base case: only one element\n",
    "        return arr[0]\n",
    "    \n",
    "    # Step 1: Choose a pivot (e.g., the last element)\n",
    "    pivot = arr[len(arr) // 2]\n",
    "    #print('pivot=', pivot)\n",
    "    #print('k=', k)\n",
    "    # Step 2: Partition the list\n",
    "    left = [x for x in arr if x < pivot]\n",
    "    middle = [x for x in arr if x == pivot]\n",
    "    right = [x for x in arr if x > pivot]\n",
    "    #print('left=', left)\n",
    "    #print('middle=', middle)\n",
    "    #print('right=', right)\n",
    "    \n",
    "    # Step 3: Determine the position of the pivot\n",
    "    if k < len(left):\n",
    "        return quickselect(left, k)  # Recur on the left part\n",
    "    elif k < len(left) + len(middle):\n",
    "        return pivot  # Pivot is the k-th smallest element\n",
    "    else:\n",
    "        return quickselect(right, k - len(left) - len(middle))  # Recur on the right part\n",
    "\n",
    "#---------------------\n",
    "#Example\n",
    "#---------------------\n",
    "unsorted_list = [3, 1, 4, 1, 5, 9]\n",
    "k = len(unsorted_list) // 2  # Index of the median\n",
    "median = quickselect(unsorted_list, k)\n",
    "print(\"Median:\", median)\n"
   ]
  },
  {
   "cell_type": "markdown",
   "id": "a5ccfe65-2e10-49aa-9784-e81e557a83a0",
   "metadata": {},
   "source": [
    "**Note:** QuickSelect is designed to find the k-th smallest element, **not directly calculate the median for even-length** lists where the median is defined as the average of two middle elements.\n",
    "\n",
    "In order to use QuickSelect for Median in Even-Length Lists properly, we need to use QuickSelect twice:\n",
    "\n",
    "- Find the (n//2−1)-th smallest element.\n",
    "- Find the (n//2)-th smallest element.\n",
    "  \n",
    "Take the average of these two elements."
   ]
  },
  {
   "cell_type": "code",
   "execution_count": 42,
   "id": "0c7c1a16-eb1c-49ee-b19b-5a6cbb7e5696",
   "metadata": {},
   "outputs": [
    {
     "name": "stdout",
     "output_type": "stream",
     "text": [
      "Median: 3.5\n"
     ]
    }
   ],
   "source": [
    "def quickselect(arr, k):\n",
    "    pivot = arr[len(arr) // 2]\n",
    "    left = [x for x in arr if x < pivot]\n",
    "    middle = [x for x in arr if x == pivot]\n",
    "    right = [x for x in arr if x > pivot]\n",
    "\n",
    "    if k < len(left):\n",
    "        return quickselect(left, k)\n",
    "    elif k < len(left) + len(middle):\n",
    "        return pivot\n",
    "    else:\n",
    "        return quickselect(right, k - len(left) - len(middle))\n",
    "\n",
    "nums = [3, 1, 4, 1, 5, 9]\n",
    "n = len(nums)\n",
    "if n % 2 == 1:\n",
    "    median = quickselect(nums, n // 2)\n",
    "else:\n",
    "    left_mid = quickselect(nums, n // 2 - 1)\n",
    "    right_mid = quickselect(nums, n // 2)\n",
    "    median = (left_mid + right_mid) / 2\n",
    "print(\"Median:\", median)\n"
   ]
  },
  {
   "cell_type": "code",
   "execution_count": null,
   "id": "f37643cc-295d-4690-b71d-a7f3de12efa5",
   "metadata": {},
   "outputs": [],
   "source": []
  },
  {
   "cell_type": "markdown",
   "id": "cf93713e-020a-4e71-b1d3-2d629f61bfa7",
   "metadata": {},
   "source": [
    "## 2. Heap-Based Method (Dynamic Median)\n",
    "\n",
    "A heap is a tree based data structure.\n",
    "\n",
    "\n",
    "          A\n",
    "         / \\\n",
    "        B   C\n",
    "       / \\   \\\n",
    "      D   E   F\n",
    "\n",
    "\n",
    "Key Components:\n",
    "- Root: A\n",
    "- Children of A: B, C\n",
    "- Parent of B: A\n",
    "- Leaf Nodes: D, E, F\n",
    "\n",
    "\n",
    "A heap could be:\n",
    "- Min heap : If the value of each node is less than or equal to the value of its children and the smallest element is always at the root\n",
    "- Max heap : If the value of each node is greater or equal to the value of its children and the largest element is always at the root\n",
    "\n",
    "## median calculation:\n",
    "- Use a Min Heap to store the larger half of the elements.\n",
    "- Use a Max Heap to store the smaller half of the elements.\n",
    "The median can be:\n",
    "- The root of the Max Heap (if the number of elements is odd).\n",
    "- The average of the roots of both heaps (if the number of elements is even)."
   ]
  },
  {
   "cell_type": "code",
   "execution_count": 39,
   "id": "fad85d57-681f-4edd-aec0-e7d5d0ebac3e",
   "metadata": {},
   "outputs": [
    {
     "name": "stdout",
     "output_type": "stream",
     "text": [
      "After adding 3, the median is: 3\n",
      "After adding 1, the median is: 2.0\n",
      "After adding 4, the median is: 3\n",
      "After adding 1, the median is: 2.0\n",
      "After adding 5, the median is: 3\n",
      "After adding 9, the median is: 3.5\n"
     ]
    }
   ],
   "source": [
    "import heapq\n",
    "\n",
    "class MedianFinder:\n",
    "    def __init__(self):\n",
    "        self.min_heap = [] # Min Heap for the larger half\n",
    "        self.max_heap = [] # Max Heap for the smaller half\n",
    "\n",
    "#---------------------\n",
    "    \n",
    "    def add_num(self, num):\n",
    "        \n",
    "        # Step 1: Add to the Max Heap (smaller half)\n",
    "        heapq.heappush(self.max_heap, -num)\n",
    "        \n",
    "        # Step 2: Balance by moving the largest from Max Heap to Min Heap\n",
    "        heapq.heappush(self.min_heap, -heapq.heappop(self.max_heap))\n",
    "        \n",
    "        # Step 3: Maintain size property (Max Heap can have at most 1 extra element)\n",
    "        if len(self.max_heap) < len(self.min_heap):\n",
    "            heapq.heappush(self.max_heap, -heapq.heappop(self.min_heap))\n",
    "\n",
    "#---------------------\n",
    "    \n",
    "    def find_median(self):\n",
    "        \n",
    "        # If odd, the root of Max Heap is the median\n",
    "        if len(self.max_heap) > len(self.min_heap):\n",
    "            return -self.max_heap[0]\n",
    "            \n",
    "        # If even, the median is the average of roots of both heaps\n",
    "        return (-self.max_heap[0] + self.min_heap[0]) / 2.0\n",
    "\n",
    "\n",
    "\n",
    "#---------------------\n",
    "#Example\n",
    "#---------------------\n",
    "nums = [3, 1, 4, 1, 5, 9]\n",
    "finder = MedianFinder()\n",
    "for num in nums:\n",
    "    finder.add_num(num)\n",
    "    print(f\"After adding {num}, the median is: {finder.find_median()}\")"
   ]
  },
  {
   "cell_type": "code",
   "execution_count": null,
   "id": "b86f441b-6f03-41cb-85c0-5e31ba7e207f",
   "metadata": {},
   "outputs": [],
   "source": []
  },
  {
   "cell_type": "markdown",
   "id": "f6808bc8-33a3-4dfb-a4ae-7bf7fa63d26b",
   "metadata": {},
   "source": [
    "Simple code without using Class:"
   ]
  },
  {
   "cell_type": "code",
   "execution_count": 40,
   "id": "2ff50d13-e25d-44c1-9772-8a1e77b5459f",
   "metadata": {},
   "outputs": [
    {
     "name": "stdout",
     "output_type": "stream",
     "text": [
      "After adding 3, the median is: 3\n",
      "After adding 1, the median is: 2.0\n",
      "After adding 4, the median is: 3\n",
      "After adding 1, the median is: 2.0\n",
      "After adding 5, the median is: 3\n",
      "After adding 9, the median is: 3.5\n"
     ]
    }
   ],
   "source": [
    "import heapq\n",
    "\n",
    "# Min Heap for the larger half\n",
    "min_heap = []\n",
    "# Max Heap for the smaller half\n",
    "max_heap = []\n",
    "\n",
    "def add_num(num):\n",
    "    # Add the number to the Max Heap\n",
    "    heapq.heappush(max_heap, -num)\n",
    "    # Balance: Move the largest number from Max Heap to Min Heap\n",
    "    heapq.heappush(min_heap, -heapq.heappop(max_heap))\n",
    "    # Ensure Max Heap can have at most 1 more element than Min Heap\n",
    "    if len(max_heap) < len(min_heap):\n",
    "        heapq.heappush(max_heap, -heapq.heappop(min_heap))\n",
    "\n",
    "def find_median():\n",
    "    # If odd, the median is the root of Max Heap\n",
    "    if len(max_heap) > len(min_heap):\n",
    "        return -max_heap[0]\n",
    "    # If even, the median is the average of roots of Max Heap and Min Heap\n",
    "    return (-max_heap[0] + min_heap[0]) / 2.0\n",
    "\n",
    "# List of numbers\n",
    "nums = [3, 1, 4, 1, 5, 9]\n",
    "\n",
    "# Add all numbers to the heaps\n",
    "for num in nums:\n",
    "    add_num(num)\n",
    "    # Calculate and print the final median\n",
    "    final_median = find_median()\n",
    "    print(f\"After adding {num}, the median is: {final_median}\")\n"
   ]
  },
  {
   "cell_type": "code",
   "execution_count": null,
   "id": "cc518d84-f082-4963-a2dc-e75a1367a4f3",
   "metadata": {},
   "outputs": [],
   "source": []
  },
  {
   "cell_type": "markdown",
   "id": "86ef16e0-8b5b-4e91-a091-a535f152f5d8",
   "metadata": {},
   "source": [
    "| **Algorithm**               | **Time Complexity**                | **Space Complexity** | **Best Use Case**                           |\n",
    "|------------------------------|-------------------------------------|-----------------------|---------------------------------------------|\n",
    "| **Sorting-Based Method**     | O(n log n)                         | O(1) or O(n)         | Small, static datasets.                    |\n",
    "| **QuickSelect Algorithm**    | O(n) (average), O(n^2) (worst)     | O(1)                 | Large, static datasets.                    |\n",
    "| **Heap-Based Method**        | O(log n) per insertion, O(1) for median | O(n)             | Dynamic or streaming datasets.             |\n",
    "| **Counting Sort Method**     | O(n + k)                           | O(k)                 | Integers or small-range datasets.          |\n",
    "| **Tree-Based Algorithms**    | O(log n) per insertion             | O(n)                 | Real-time dynamic updates with fast access.|\n",
    "| **Reservoir Sampling**       | Depends on reservoir size          | O(k)                 | Very large datasets or approximate median. |\n"
   ]
  },
  {
   "cell_type": "code",
   "execution_count": null,
   "id": "ba94a7ff-35f5-4259-be03-d70c973a7057",
   "metadata": {},
   "outputs": [],
   "source": []
  }
 ],
 "metadata": {
  "kernelspec": {
   "display_name": "Python 3 (ipykernel)",
   "language": "python",
   "name": "python3"
  },
  "language_info": {
   "codemirror_mode": {
    "name": "ipython",
    "version": 3
   },
   "file_extension": ".py",
   "mimetype": "text/x-python",
   "name": "python",
   "nbconvert_exporter": "python",
   "pygments_lexer": "ipython3",
   "version": "3.11.5"
  }
 },
 "nbformat": 4,
 "nbformat_minor": 5
}
