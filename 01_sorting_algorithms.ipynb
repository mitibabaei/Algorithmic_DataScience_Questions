{
 "cells": [
  {
   "cell_type": "markdown",
   "id": "666259a9-0c62-44f9-8a19-c8cfb5694eb1",
   "metadata": {},
   "source": [
    "## Question:\n",
    "\n",
    "You are given an unsorted list of numbers. How would you sort them? Explain and implement the sorting algorithm of your choice."
   ]
  },
  {
   "cell_type": "markdown",
   "id": "98f91f01-021c-4b19-b4f6-0ddd46e19b91",
   "metadata": {},
   "source": [
    "## Follow-up: \n",
    "\n",
    "Discuss the time and space complexity of your chosen algorithm. Compare with alternatives like **QuickSort**, **MergeSort**, and **BubbleSort**."
   ]
  },
  {
   "cell_type": "markdown",
   "id": "2edccc95-f817-43bd-8434-21cbc1910f24",
   "metadata": {},
   "source": [
    "## 1. Quick Sort\n",
    "\n",
    "Use **divide and conquer** strategy (breaking problem into smaller subproblem, solve independently, then combine to solve the original problem)\n",
    "- Select an element for the list as a **pivot** : e.g. Picking the first, last or median element.\n",
    "- Partition the list: move smaller element than pivot to left and larger element to right partitions\n",
    "- apply Quick sort to new partions in left and right\n",
    "- Combine sorted sublist into final sorted list. "
   ]
  },
  {
   "cell_type": "code",
   "execution_count": 1,
   "id": "e118a6e0-1478-453d-96b3-b6408cf75752",
   "metadata": {},
   "outputs": [
    {
     "name": "stdout",
     "output_type": "stream",
     "text": [
      "[-2.5, -2, 0, 1, 3, 4, 5, 7, 10, 12]\n"
     ]
    }
   ],
   "source": [
    "def quicksort(arr):\n",
    "    if len(arr)<=1: #A list with 0 or 1 element is already sorted \n",
    "        return arr\n",
    "\n",
    "    # Step 1: Choose a pivot\n",
    "    pivot = arr[len(arr)//2] # choose the middle element as the the pivot\n",
    "\n",
    "    #Step 2: Partition the list\n",
    "    left = [x for x in arr if x < pivot]  # Element smaller than the pivot \n",
    "    middle = [x for x in arr if x == pivot]  #Element equal to the pivot\n",
    "    right = [x for x in arr if x > pivot]  #Element greater than the pivot\n",
    "\n",
    "    #Step 3: Recursively apply QuickSort and Combine\n",
    "    return quicksort(left) + middle + quicksort(right)\n",
    "\n",
    "#---------------------\n",
    "#Example\n",
    "#---------------------\n",
    "unsorted_list = [10, 7, 12, -2, 5, 0, 4, 3, 1, -2.5]\n",
    "sortedlist = quicksort(unsorted_list)\n",
    "print(sortedlist)"
   ]
  },
  {
   "cell_type": "code",
   "execution_count": null,
   "id": "4b020d20-669a-4ed6-8414-8903ac332056",
   "metadata": {},
   "outputs": [],
   "source": []
  },
  {
   "cell_type": "markdown",
   "id": "635e09aa-8a01-4b07-bdd5-c1df1cc42446",
   "metadata": {},
   "source": [
    "## 2. Merge Sort\n",
    "\n",
    "Uses the **divide-and-conquer** strategy. It splits a list into smaller sublists, sorts them recursively, and then merges the sorted sublists to produce the final sorted list. \n",
    "\n",
    "- **Divide:** Split the list into two halves.\n",
    "- **Conquer:** Recursively sort each half using MergSort\n",
    "- **Combine:** Merge the two sorted halves into one sorted list"
   ]
  },
  {
   "cell_type": "code",
   "execution_count": 4,
   "id": "f55d7670-0446-4d4a-8201-f031f85da8a2",
   "metadata": {},
   "outputs": [
    {
     "name": "stdout",
     "output_type": "stream",
     "text": [
      "Sorted list: [-2.5, -2, 0, 1, 3, 4, 5, 7, 10, 12]\n"
     ]
    }
   ],
   "source": [
    "def merge_sort(arr):\n",
    "    if len(arr)<=1:\n",
    "        return arr\n",
    "\n",
    "\n",
    "    #Step 1: Divide the list into two halves\n",
    "    mid = len(arr)//2\n",
    "    left_half = merge_sort(arr[:mid])\n",
    "    right_half = merge_sort(arr[mid:])\n",
    "\n",
    "\n",
    "    #Step 2: Merge the sorted halves\n",
    "    return merge(left_half, right_half)\n",
    "\n",
    "\n",
    "def merge(left, right): #takes two sorted sublists (or arrays) and combines them into one sorted list.\n",
    "    sorted_list = []\n",
    "    i = j = 0\n",
    "    \n",
    "    # Compare elements from both halves and append the smallest to the sorted list\n",
    "    while i < len(left) and j < len(right):\n",
    "        if left[i] < right[j]:\n",
    "            sorted_list.append(left[i])\n",
    "            i+=1\n",
    "        else:\n",
    "            sorted_list.append(right[j])\n",
    "            j+=1\n",
    "\n",
    "    #Append any remaining elements:\n",
    "    sorted_list.extend(left[i:])\n",
    "    sorted_list.extend(right[j:])\n",
    "\n",
    "    return sorted_list\n",
    "\n",
    "\n",
    "\n",
    "#---------------------\n",
    "#Example\n",
    "#---------------------\n",
    "\n",
    "sorted_list = merge_sort(unsorted_list)\n",
    "print(\"Sorted list:\", sorted_list)\n"
   ]
  },
  {
   "cell_type": "code",
   "execution_count": null,
   "id": "b33f55d5-25ba-4839-9e11-95e80b856092",
   "metadata": {},
   "outputs": [],
   "source": []
  },
  {
   "cell_type": "markdown",
   "id": "63732444-1d2b-4682-ac9b-b3c66027c998",
   "metadata": {},
   "source": [
    "## 3. Bubble Sort\n",
    "\n",
    "It repeatedly steps through the list, compares adjacent elements, and swaps them if they are in the wrong order. This process is repeated until the list is sorted.\n",
    "\n",
    "- Start at the begining of the list\n",
    "- Compare each pair of adjacent elements.\n",
    "- Swap them if they are in a wrong order.\n",
    "- Repeat the process for every element in the list\n",
    "- With each iteration, the largeest unsorted element moves to its correct position at the end.\n",
    "- Stop when no swaps are needed during a pass. "
   ]
  },
  {
   "cell_type": "code",
   "execution_count": null,
   "id": "b5dbee61-c857-41b6-9436-dcc0430d49a1",
   "metadata": {},
   "outputs": [],
   "source": [
    "def bubble_sort(arr):\n",
    "    n = len(arr)\n",
    "    for i in range(n):\n",
    "        swapped = False\n",
    "        for j in range(0, n-i-1):\n",
    "            if arr[j] > arr[j+1]:\n",
    "                arr[j], arr[j+1] = arr[j+1], arr[j]\n",
    "                swapped = True\n",
    "        if not swapped:\n",
    "            break\n",
    "    return arr\n",
    "\n",
    "\n",
    "#---------------------\n",
    "#Example\n",
    "#---------------------\n",
    "sorted_list = bubble_sort(unsorted_list)\n",
    "print(\"Sorted list:\", sorted_list)\n"
   ]
  },
  {
   "cell_type": "code",
   "execution_count": null,
   "id": "3cfb8eb8-e26a-4258-a827-15a7b7ae2d38",
   "metadata": {},
   "outputs": [],
   "source": []
  },
  {
   "cell_type": "markdown",
   "id": "ddd51e97-75cf-4875-8248-eedd9db7d2ff",
   "metadata": {},
   "source": [
    "| Algorithm       | Time Complexity (Best) | Time Complexity (Worst) | Space Complexity | Stable? | Best Use Case                               |\n",
    "|-----------------|-------------------------|--------------------------|-------------------|---------|--------------------------------------------|\n",
    "| QuickSort       | O(n log n)             | O(n^2)                  | O(log n)         | No      | General-purpose, large datasets.           |\n",
    "| MergeSort       | O(n log n)             | O(n log n)              | O(n)             | Yes     | Large datasets requiring stability.        |\n",
    "| HeapSort        | O(n log n)             | O(n log n)              | O(1)             | No      | Memory-efficient sorting.                  |\n",
    "| InsertionSort   | O(n)                   | O(n^2)                  | O(1)             | Yes     | Small datasets or nearly sorted data.      |\n",
    "| BubbleSort      | O(n)                   | O(n^2)                  | O(1)             | Yes     | Educational purposes or small datasets.    |\n",
    "| RadixSort       | O(d * (n + k))         | O(d * (n + k))          | O(n + k)         | Yes     | Sorting integers or strings.               |\n",
    "| TimSort         | O(n log n)             | O(n log n)              | O(n)             | Yes     | Built-in Python sort, works well in practice. |\n"
   ]
  },
  {
   "cell_type": "code",
   "execution_count": null,
   "id": "68f8366c-8349-4c0e-b2f1-415955da59c4",
   "metadata": {},
   "outputs": [],
   "source": []
  }
 ],
 "metadata": {
  "kernelspec": {
   "display_name": "Python 3 (ipykernel)",
   "language": "python",
   "name": "python3"
  },
  "language_info": {
   "codemirror_mode": {
    "name": "ipython",
    "version": 3
   },
   "file_extension": ".py",
   "mimetype": "text/x-python",
   "name": "python",
   "nbconvert_exporter": "python",
   "pygments_lexer": "ipython3",
   "version": "3.11.5"
  }
 },
 "nbformat": 4,
 "nbformat_minor": 5
}
